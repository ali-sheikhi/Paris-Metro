{
 "cells": [
  {
   "cell_type": "markdown",
   "metadata": {},
   "source": [
    "# Paris Metro Shortest Tour Meta-Heursitic Optimization\n",
    "\n",
    "In this notebook I present two kinds of algorithms to find the shortest tour of all metro stations within Paris. The requirement is that at least one pass is made through each station within Paris city limits but they may be visited more than once. Furthermore, stations outside Paris are not out of bounds(ie one may use them if desired).\n",
    "\n",
    "The two algorithms are:\n",
    "\n",
    "* **ant_explorer**:\n",
    "Ant colony Optimization inspired algorithm where edge selection is determined by connected edges' pheromone levels and path quality. The factors used to compute path quality are the number of previous visits to corresponding neighboring nodes and edge cost.\n",
    "\n",
    "* **smart_explorer**:\n",
    "Edge selection at each node is based on the cost or time associated to the connected edges & the number of passes previously made through the stations to which those edges connect.\n",
    "\n",
    "*Conclusion: smart_explorer outperforms ant_explorer by a significant margin*\n",
    "\n",
    "**Shortest Time**: The best time I was able achieve with the smart explorer was **7.53527777778 hrs** (although the final run produced a slightly different result as shown in the final cell)"
   ]
  },
  {
   "cell_type": "code",
   "execution_count": 1,
   "metadata": {
    "collapsed": true
   },
   "outputs": [],
   "source": [
    "import pandas as pd\n",
    "import numpy as np\n",
    "import matplotlib.pyplot as plt\n",
    "import math\n",
    "import string\n",
    "import random"
   ]
  },
  {
   "cell_type": "markdown",
   "metadata": {},
   "source": [
    "#### Please insert the correct path for the file *metro_complet.txt*"
   ]
  },
  {
   "cell_type": "code",
   "execution_count": 2,
   "metadata": {
    "collapsed": true
   },
   "outputs": [],
   "source": [
    "#file name to be loaded\n",
    "#Please insert relevant file path for metro_complet.txt\n",
    "\n",
    "filename = '/home/ec2-user/Notebooks/ParisMetro/data/metro_complet.txt'"
   ]
  },
  {
   "cell_type": "markdown",
   "metadata": {},
   "source": [
    "## Some Notes:\n",
    "\n",
    "* [smart_explorer]  -> tag to mark a cell belonging to the smart_explorer algorithm\n",
    "\n",
    "* [ant_explorer]    -> tag to mark a cell belonging to the ant_explorer algorithm\n",
    "\n",
    "* The cell execution time for 'heavy' cells provided are for AWS EC2 't2.2xlarge' [8 vCPUs, 32 GiB Memory]\n",
    "  (Note: this isn't very different from running on iCore 7 with 8 GB RAM since no use has been made of multi-threading or multi-processing)\n",
    "\n",
    "* Notebook includes results"
   ]
  },
  {
   "cell_type": "markdown",
   "metadata": {},
   "source": [
    "## Functions"
   ]
  },
  {
   "cell_type": "markdown",
   "metadata": {},
   "source": [
    "All the following function cells need to be executed.\n",
    "Descriptions are provided in the comments."
   ]
  },
  {
   "cell_type": "markdown",
   "metadata": {},
   "source": [
    "#### Stations(vertices or nodes) dataframe"
   ]
  },
  {
   "cell_type": "code",
   "execution_count": 3,
   "metadata": {
    "collapsed": true
   },
   "outputs": [],
   "source": [
    "#Function: constructs vertices(nodes) dataframe from file\n",
    "\n",
    "#Params:\n",
    "#          f -> file name\n",
    "\n",
    "def get_vertexDF(f):\n",
    "    vertexID = []\n",
    "    vertexName = []\n",
    "    with open(f,'r',encoding = \"ISO-8859-1\") as fh:\n",
    "         for curline in fh:\n",
    "            if curline.startswith('[Vertices]'):\n",
    "                continue\n",
    "            elif curline.startswith('[Edges]'):\n",
    "                break\n",
    "            else:\n",
    "                vertexID.append(int(curline[1:4]))\n",
    "                vertexName.append(curline[5:-1])\n",
    "\n",
    "    vertexDF = pd.DataFrame({'ID':vertexID,'Name':vertexName})\n",
    "    return vertexDF"
   ]
  },
  {
   "cell_type": "markdown",
   "metadata": {},
   "source": [
    "#### Paths(edges) dataframe"
   ]
  },
  {
   "cell_type": "code",
   "execution_count": 4,
   "metadata": {
    "collapsed": true
   },
   "outputs": [],
   "source": [
    "#Function: constructs edges dataframe from file\n",
    "\n",
    "#Params:\n",
    "#          f -> file name\n",
    "\n",
    "def get_edgeDF(f):\n",
    "    edgeS = []\n",
    "    edgeD = []\n",
    "    edgeC = []\n",
    "    with open(f,'r',encoding = \"ISO-8859-1\") as fh:\n",
    "         for curline in fh:\n",
    "            if not curline.startswith('[Edges]'):\n",
    "                continue\n",
    "            else:\n",
    "                break\n",
    "         for curline in fh:\n",
    "            elems =curline.split(\" \")\n",
    "            edgeS.append(int(elems[0]))\n",
    "            edgeD.append(int(elems[1]))\n",
    "            edgeC.append(int(float(elems[2][:-1])))\n",
    "\n",
    "    edgeDF = pd.DataFrame({'Source':edgeS, 'Destination':edgeD, 'Cost':edgeC})\n",
    "    return edgeDF"
   ]
  },
  {
   "cell_type": "markdown",
   "metadata": {},
   "source": [
    "#### Total number of stations"
   ]
  },
  {
   "cell_type": "code",
   "execution_count": 5,
   "metadata": {
    "collapsed": true
   },
   "outputs": [],
   "source": [
    "#Function: returns total number of nodes(or stations)\n",
    "\n",
    "#Params:\n",
    "#          df -> vertex(node) dataframe (or the cost matrix)\n",
    "\n",
    "def get_totalNodes(df):\n",
    "    return len(df)"
   ]
  },
  {
   "cell_type": "markdown",
   "metadata": {},
   "source": [
    "#### Cost(time) matrix construction"
   ]
  },
  {
   "cell_type": "code",
   "execution_count": 6,
   "metadata": {
    "collapsed": true
   },
   "outputs": [],
   "source": [
    "#Function: constructs cost matrix (sparse)\n",
    "\n",
    "#Params:\n",
    "#          dfV -> vertex(node) dataframe ; dfE -> edge dataframe\n",
    "\n",
    "def get_costMatrix(dfV, dfE):\n",
    "    rank = get_totalNodes(dfV)\n",
    "    cost_matrix = np.full((rank,rank),np.inf)\n",
    "\n",
    "    for i in range(rank):\n",
    "        row = []\n",
    "        for j in range(rank):\n",
    "            try:\n",
    "                cost_matrix[i,j] = dfE[(dfE['Source']==dfV.iloc[i,0]) & (dfE['Destination']==dfV.iloc[j,0])]['Cost'].values[0]\n",
    "            except IndexError:\n",
    "                continue\n",
    "    return cost_matrix"
   ]
  },
  {
   "cell_type": "markdown",
   "metadata": {},
   "source": [
    "#### Station aliases"
   ]
  },
  {
   "cell_type": "code",
   "execution_count": 7,
   "metadata": {
    "collapsed": true
   },
   "outputs": [],
   "source": [
    "#Function: returns a list of lists of station IDs corresponding to the same name\n",
    "\n",
    "#Params:\n",
    "#          dfV -> vertex(node) data frame\n",
    "\n",
    "def get_sameNodes(dfV):\n",
    "    \n",
    "    same_list = []\n",
    "    \n",
    "    for i in range(0,len(dfV)):\n",
    "        v_list = []\n",
    "        v_list.append(i)\n",
    "        for num in range(0, len(dfV)):\n",
    "            if i!=num:\n",
    "                if dfV.iloc[i]['Name']==dfV.iloc[num]['Name']:\n",
    "                    v_list.append(num)\n",
    "        same_list.append(v_list)\n",
    "    \n",
    "    return same_list"
   ]
  },
  {
   "cell_type": "markdown",
   "metadata": {},
   "source": [
    "#### Neghboring stations"
   ]
  },
  {
   "cell_type": "code",
   "execution_count": 8,
   "metadata": {
    "collapsed": true
   },
   "outputs": [],
   "source": [
    "#Function: returns a list of lists of neigboring nodes for the current node\n",
    "\n",
    "#Params:\n",
    "#          dfE -> edge data frame\n",
    "\n",
    "def get_neighbors(dfE,l):\n",
    "    \n",
    "    edge_list = []\n",
    "    \n",
    "    for i in range(0,l):\n",
    "        e_list = []\n",
    "        for num in range(0, len(dfE)):\n",
    "            if i==dfE.iloc[num]['Source']:\n",
    "                    e_list.append(dfE.iloc[num]['Destination'])\n",
    "        edge_list.append(e_list)\n",
    "    \n",
    "    return edge_list"
   ]
  },
  {
   "cell_type": "markdown",
   "metadata": {},
   "source": [
    "#### Edge selection functions"
   ]
  },
  {
   "cell_type": "code",
   "execution_count": 9,
   "metadata": {
    "collapsed": true
   },
   "outputs": [],
   "source": [
    "#Function: returns unvisited node with shortest path from current node\n",
    "\n",
    "#Params:\n",
    "#          c_node -> current node ; cm -> cost_matrix ; h -> current path history\n",
    "\n",
    "#note:     if all notes are visited then returned value is np.inf since the cost matrix is initialized..\n",
    "#          to np.inf for non-existing edges\n",
    "\n",
    "def get_shortest_unvisited(c_node, cm, h):\n",
    "\n",
    "    k=0\n",
    "    tmp = np.argpartition(cm[c_node], k)[k]\n",
    "\n",
    "    while ((tmp in h) & (cm[c_node,tmp]!=np.inf)):\n",
    "        k+=1\n",
    "        tmp = np.argpartition(cm[c_node], k)[k]\n",
    "        \n",
    "    return tmp"
   ]
  },
  {
   "cell_type": "code",
   "execution_count": 10,
   "metadata": {
    "collapsed": true
   },
   "outputs": [],
   "source": [
    "#[smart_explorer]\n",
    "\n",
    "#Function: returns next node\n",
    "#          if, unvisited node(s) exists, it returns shortest\n",
    "#          else, next best unvisited node has np.inf as cost, thus returns random least visited shortest path node\n",
    "\n",
    "#Params:\n",
    "#          c_node -> current node ; cm -> cost matrix ; tmp -> next best node from function 'get_shortest_unvisited' ;\n",
    "#          v -> list of visited nodes for current tour ; el -> neighboring nodes for current node\n",
    "\n",
    "\n",
    "def get_nextNode(c_node, cm, tmp, v, el):\n",
    "    \n",
    "    choice_list = []\n",
    "    \n",
    "    if cm[c_node,tmp] == np.inf:\n",
    "        \n",
    "        opts = el[c_node]\n",
    "        choice = opts[0]\n",
    "        freq=v[choice]\n",
    "        \n",
    "        for c in opts:\n",
    "            if v[c]<v[choice]:\n",
    "                choice = c\n",
    "                freq = v[c]\n",
    "                        \n",
    "        for c in opts:\n",
    "            if v[c]==freq:\n",
    "                choice_list.append(c)\n",
    "                \n",
    "        choice = random.choice(choice_list)\n",
    "        t = choice\n",
    "\n",
    "    else:\n",
    "        t = tmp\n",
    "    \n",
    "    return t"
   ]
  },
  {
   "cell_type": "code",
   "execution_count": 11,
   "metadata": {
    "collapsed": true
   },
   "outputs": [],
   "source": [
    "#[ant explorer]\n",
    "\n",
    "#Function: fetches the next path\n",
    "#          If path(s) connecting to unvisited node(s) exist , it returns the shortest one.\n",
    "#          If not then the selected path depends on the computed probabilites assigned to each connecting edge.\n",
    "#          This probability is determined by edge pheromone level(influence of which is controlled by constant alpha) and..\n",
    "#          the quality of the path(influence of which is controlled by constant alpha).\n",
    "#          The path quality here is determined by 1/(path distance*exp(#of previous visits of all ants to node at the end of this path))\n",
    "\n",
    "#Params:   c_node -> current node ; c_mat -> cost matrix ; tmp -> next best node from function 'get_shortest_unvisited' ;\n",
    "#          ph_mat -> pheromone matrix ; v -> list of visited nodes for current tour ;\n",
    "#          el -> neighboring nodes for current node ; alpha -> pheromone influence constant ;\n",
    "#          beta -> path quality influence constant\n",
    "\n",
    "def get_nextPath(c_node, c_mat, tmp, ph_mat, v, el, alpha, beta):\n",
    "    \n",
    "\n",
    "    \n",
    "    if c_mat[c_node,tmp] == np.inf:\n",
    "        \n",
    "        opts = el[c_node]\n",
    "\n",
    "        \n",
    "        prob = []\n",
    "        sum_influence = 0\n",
    "\n",
    "        for c in opts:\n",
    "            sum_influence += ph_mat[c_node, c]**alpha * (1/(c_mat[c_node, c]*np.exp(v[c])))**beta\n",
    "\n",
    "        for c in opts:\n",
    "            prob.append(((ph_mat[c_node, c]**alpha * (1/(c_mat[c_node, c]*np.exp(v[c])))**beta)) / sum_influence)\n",
    "\n",
    "        t = opts[prob.index(max(prob))]\n",
    "\n",
    "    else:\n",
    "        t = tmp\n",
    "    \n",
    "    return t\n",
    "    #path selection probability for possible paths v of current node"
   ]
  },
  {
   "cell_type": "markdown",
   "metadata": {},
   "source": [
    "#### Pheromone update"
   ]
  },
  {
   "cell_type": "code",
   "execution_count": 12,
   "metadata": {
    "collapsed": true
   },
   "outputs": [],
   "source": [
    "#[ant explorer]\n",
    "\n",
    "#Function: updates the pheromones deposited on all edges that make up a tour\n",
    "\n",
    "#Params:\n",
    "#          tour -> current solution/tour ; ph_mat -> pehromone matrix ; Q -> cost function dependent constant ;\n",
    "#          F -> total cost of a tour ; rho -> pheromone evaporation rate\n",
    "\n",
    "def update_pheromones(tour,ph_mat,Q,F,rho):\n",
    "    \n",
    "    #pheromone amount deposited by current ant on each edge\n",
    "    delta_tao = Q/F\n",
    "    \n",
    "    \n",
    "    #pheromone update for each edge of current solution\n",
    "    for i in range(0,len(tour)-1):\n",
    "        ph_mat[tour[i],tour[i+1]] = (1-rho)*ph_mat[tour[i],tour[i+1]] + delta_tao\n",
    "    return ph_mat"
   ]
  },
  {
   "cell_type": "markdown",
   "metadata": {},
   "source": [
    "#### Nodes within Paris\n",
    "This includes all stations with different IDs but same name. Same name nodes will be removed in the algorithm. "
   ]
  },
  {
   "cell_type": "code",
   "execution_count": 30,
   "metadata": {
    "collapsed": true
   },
   "outputs": [],
   "source": [
    "#Function: returns a list of the stations within Paris city limits (ie bounded by 'Porte' stations)\n",
    "\n",
    "#Params:\n",
    "#          cm -> cost matrix ; sl -> same nodes list ; el -> neighboring nodes for current node ;\n",
    "#          dfV -> vertex(nodes) dataframe ; pt -> node of interest 'Jean Jaures' station to be included(value = 'w')...\n",
    "#          or exluded from among the city nodes with value w instructing an inclusion\n",
    "\n",
    "def city_nodes(cm, sl, el, dfV, pt):\n",
    "    \n",
    "    l = get_totalNodes(cm)\n",
    "    start_list = [r for r in range(0,l)]\n",
    "    unvisited = set(range(l))\n",
    "    pattern = 'Porte'\n",
    "    \n",
    "    #option to consider station 'Boulogne, Jean Jaurès' as part of inner city stations\n",
    "    node_of_interest = 36\n",
    "    \n",
    "    while len(unvisited)>100:\n",
    "        \n",
    "        start = random.choice(start_list)\n",
    "\n",
    "        s = start\n",
    "        hist = [s]\n",
    "\n",
    "        visited = np.zeros(shape=(l))\n",
    "        visited[s] += 1\n",
    "        unvisited = set(range(l))\n",
    "\n",
    "        for v in range(len(sl[s])):\n",
    "            unvisited.remove(sl[s][v])\n",
    "        \n",
    "        repeats = 0\n",
    "        while (repeats < 3000):\n",
    "\n",
    "            tmp = get_shortest_unvisited(s, cm, hist)\n",
    "            t = get_nextNode(s, cm, tmp, visited, el)\n",
    "\n",
    "            for v in range(len(sl[t])):\n",
    "                    try:\n",
    "                        unvisited.remove(sl[t][v])\n",
    "                    except KeyError:\n",
    "                        repeats += 1\n",
    "                        continue\n",
    "\n",
    "            hist.append(t)\n",
    "            visited[t] += 1\n",
    "            if pattern in dfV.iloc[t]['Name']:\n",
    "                continue\n",
    "            else:\n",
    "                s=t\n",
    "    \n",
    "    if pt == 'w':\n",
    "        hist.append(36)\n",
    "    return set(hist), hist"
   ]
  },
  {
   "cell_type": "markdown",
   "metadata": {},
   "source": [
    "#### Solver output"
   ]
  },
  {
   "cell_type": "code",
   "execution_count": 14,
   "metadata": {
    "collapsed": true
   },
   "outputs": [],
   "source": [
    "#Function: display and returns results of the solver or algorithm\n",
    "#Params:\n",
    "#          c_r -> costs for the tours ; h_l -> list of feasible tour paths ; \n",
    "#          uv_l -> unvisited list(if any) for each solution (unvisited refers to nodes that are required to be..\n",
    "#          to be visited and thus must be empty)\n",
    "\n",
    "def solver_results(c_r, h_l, uv_l):\n",
    "\n",
    "    best_index = np.argmin(c_r)\n",
    "    \n",
    "    best_init = h_l[best_index][0]\n",
    "    least_cost = c_r[best_index]\n",
    "    least_cost_hrs = c_r[best_index]/(60*60)\n",
    "    unvisited_set = uv_l[best_index]\n",
    "    tour_length = len(h_l[best_index])\n",
    "    nos_stations = len(set(h_l[best_index]))\n",
    "\n",
    "    print('Best Starting station', best_init)\n",
    "    print('Total Time in seconds:', least_cost)\n",
    "    print('Total Time in hrs:', least_cost_hrs)\n",
    "    print('Un-visited Set',unvisited_set)\n",
    "    print('Tour length(# of stations)', tour_length)\n",
    "    print('# of unique stations', nos_stations)\n",
    "    \n",
    "    return best_init, tour_length, nos_stations, least_cost_hrs"
   ]
  },
  {
   "cell_type": "markdown",
   "metadata": {},
   "source": [
    "## Ant Explorer Algorithm"
   ]
  },
  {
   "cell_type": "markdown",
   "metadata": {},
   "source": [
    "#### Edge Selection\n",
    "\n",
    "The $kth$ ant moves from node $x$ to node $y$ with probability :\n",
    "\\begin{equation*}\n",
    "p_{xy}^k = \\frac{(\\tau_{xy}^\\alpha)(\\eta_{xy}^\\beta)}{\\sum_{z\\in_{allowed_x}}(\\tau_{xy}^\\alpha)(\\eta_{xy}^\\beta)}\n",
    "\\end{equation*}\n",
    "\n",
    "where $\\eta_{xy}$ gives the path quality, with $V_y$ being the number of previous visits of node $y$ connected to current node $x$ in the current partial tour,\n",
    "\n",
    "\\begin{equation*}\n",
    "\\eta_{xy} = \\frac{1}{d_{xy}e^{V_y}}\n",
    "\\end{equation*}\n",
    "\n",
    "\n",
    "### Pheromone Update\n",
    "\n",
    "When $kth$ ant  finishes a tour all edges are updated as follows, where $\\tau_{xy}$ being the pheromone level of edge belonging to node $x$ and $y$,\n",
    "\n",
    "\\begin{equation*}\n",
    "\\tau_{xy} \\leftarrow (1 - \\rho)\\tau_{xy} + \\sum_k\\Delta\\tau_{xy}^k\n",
    "\\end{equation*}\n",
    "\n",
    "where $\\Delta\\tau_{xy}^k$ is given by,\n",
    "\n",
    "\\begin{equation*}\n",
    "\\Delta\\tau_{xy}^k = \n",
    "\\begin{cases}\n",
    " \\frac{Q}{L_k} & \\text{if ant $k$ uses path $xy$ in its tour} \\\\\n",
    " 0 & \\text{otherwise}\n",
    "\\end{cases}\n",
    "\\end{equation*}\n",
    "\n",
    "here $Q$ is some problem dependent constant and $L_k$ is the cost of $kth$ ant's tour"
   ]
  },
  {
   "cell_type": "code",
   "execution_count": 16,
   "metadata": {
    "collapsed": true
   },
   "outputs": [],
   "source": [
    "#[ant_explorer]\n",
    "\n",
    "#ant_explorer algorithm for shortest tour optimization - Ant Colony inspired\n",
    "\n",
    "#path selection strategy priority: (1)shortest unvisited ~ (2)best visited(combination of pheromone level & path quality)\n",
    "\n",
    "#Starting node: random\n",
    "\n",
    "#Function: returns list of costs for all solutions,\n",
    "#                  list of tour paths of all solutions,\n",
    "#                  list of any unvisited nodes(purpose being to confirm that all required nodes were visited)\n",
    "\n",
    "#Params:\n",
    "#          t_b -> time budget in seconds ; itr -> # of iterations per node ; cm -> cost matrix ; \n",
    "#          sl -> same nodes list ; el -> neighboring nodes for current node ; dfV -> vertex(nodes) dataframe ; \n",
    "#          pt -> node of interest 'Jean Jaures' station (for more info see function 'city_nodes') ;\n",
    "#          alpha -> pheromone influence constant ; beta -> path quality influence constant\n",
    "#          Q -> cost function dependent constant ; rho -> pheromone evaporation rate\n",
    "\n",
    "\n",
    "def ant_explorer(t_b, itr, cm, sl, el, dfV, pt, alpha, beta, Q, rho):\n",
    "\n",
    "    city_n, dummy = city_nodes(cm, sl, el, dfV, pt)\n",
    "    count = 0\n",
    "    l = get_totalNodes(cm)\n",
    "    hist_list = []\n",
    "    unvisited_list = []\n",
    "    cost_runs = np.zeros(shape=itr)\n",
    "    ph_mat = np.ones(shape=(l,l))\n",
    "    \n",
    "    all_cities = [c for c in range(0,l)]\n",
    "        \n",
    "    for y in range(0,itr):\n",
    "        \n",
    "        i = random.choice(all_cities)\n",
    "        s = i\n",
    "        hist = [s]\n",
    "        costs = 0\n",
    "\n",
    "        visited = np.zeros(shape=(l))\n",
    "        visited[s] += 1\n",
    "        unvisited = city_n.copy()\n",
    "\n",
    "        for v in range(len(sl[s])):\n",
    "            try:\n",
    "                unvisited.remove(sl[s][v])\n",
    "            except KeyError:\n",
    "                continue\n",
    "\n",
    "        while (len(unvisited)>0) & (costs<t_b):\n",
    "            \n",
    "            tmp = get_shortest_unvisited(s, cm, hist)\n",
    "            t = get_nextPath(s, cm, tmp, ph_mat, visited, el, alpha, beta)\n",
    "            \n",
    "            for v in range(len(sl[t])):\n",
    "                    try:\n",
    "                        unvisited.remove(sl[t][v])\n",
    "                    except KeyError:\n",
    "                        continue\n",
    "\n",
    "            hist.append(t)\n",
    "            costs+=cm[s,t]\n",
    "            s = t\n",
    "            visited[s] += 1\n",
    "\n",
    "        cost_runs[count] = costs\n",
    "        hist_list.append(hist)\n",
    "        ph_mat = update_pheromones(hist,ph_mat,Q,costs,rho)\n",
    "        unvisited_list.append(unvisited)\n",
    "        count+=1\n",
    "    \n",
    "    return cost_runs, hist_list, unvisited_list"
   ]
  },
  {
   "cell_type": "markdown",
   "metadata": {},
   "source": [
    "## Smart Explorer Algorithm"
   ]
  },
  {
   "cell_type": "code",
   "execution_count": 17,
   "metadata": {
    "collapsed": true
   },
   "outputs": [],
   "source": [
    "#[smart_explorer]\n",
    "\n",
    "#smart_explorer algorithm for shortest tour optimization\n",
    "\n",
    "#path selection strategy priority: (1)shortest unvisited ~ (1)random least visited\n",
    "\n",
    "#Starting node: algortihm iterates over all nodes with each node iterated over 'itr' times (due to some randomness\n",
    "#               in the selection strategy; see function 'get_nextNode' for more info)\n",
    "\n",
    "#Function: returns list of costs for all solutions,\n",
    "#                  list of tour paths of all solutions,\n",
    "#                  list of unvisited nodes (if any) -> purpose being to confirm that all required nodes were visited\n",
    "\n",
    "#Params:\n",
    "#          t_b -> time budget in seconds (20 hrs) ; itr -> # of iterations per node ; cm -> cost matrix ; \n",
    "#          sl -> same nodes list ; el -> neighboring nodes for current node ; dfV -> vertex(nodes) dataframe ; \n",
    "#          pt -> node of interest 'Jean Jaures' station (for more info see function 'city_nodes')\n",
    "\n",
    "\n",
    "def smart_explorer(t_b, itr, cm, sl, el, dfV, pt):\n",
    "\n",
    "    city_n, dummy = city_nodes(cm, sl, el, dfV, pt)\n",
    "    count = 0\n",
    "    l = get_totalNodes(cm)\n",
    "    hist_list = []\n",
    "    unvisited_list = []\n",
    "    cost_runs = np.zeros(shape=l*itr)\n",
    "    \n",
    "\n",
    "    for i in range(0,l):\n",
    "        \n",
    "        for y in range(0,itr):\n",
    "\n",
    "            s = i\n",
    "            hist = [s]\n",
    "            costs = 0\n",
    "\n",
    "            visited = np.zeros(shape=(l))\n",
    "            visited[i] += 1\n",
    "            unvisited = city_n.copy()\n",
    "\n",
    "            for v in range(len(sl[i])):\n",
    "                try:\n",
    "                    unvisited.remove(sl[i][v])\n",
    "                except KeyError:\n",
    "                    continue\n",
    "\n",
    "            while (len(unvisited)>0) & (costs<t_b):\n",
    "\n",
    "                tmp = get_shortest_unvisited(s, cm, hist)\n",
    "                t = get_nextNode(s, cm, tmp, visited, el)\n",
    "\n",
    "                for v in range(len(sl[t])):\n",
    "                        try:\n",
    "                            unvisited.remove(sl[t][v])\n",
    "                        except KeyError:\n",
    "                            continue\n",
    "\n",
    "                hist.append(t)\n",
    "                costs+=cm[s,t]\n",
    "                s = t\n",
    "                visited[s] += 1\n",
    "\n",
    "            cost_runs[count] = costs\n",
    "            hist_list.append(hist)\n",
    "            unvisited_list.append(unvisited)\n",
    "            count+=1\n",
    "    \n",
    "    return cost_runs, hist_list, unvisited_list"
   ]
  },
  {
   "cell_type": "markdown",
   "metadata": {},
   "source": [
    "## Data Preparation\n",
    "* Dataframes are created for the vertices(nodes) and edges.\n",
    "* The cost matrix is constructed out of the travel times between the stations.\n",
    "* One list is populated with lists of nodes corresponding to the same station.\n",
    "* And another one with lists of neighboring stations for each station."
   ]
  },
  {
   "cell_type": "code",
   "execution_count": 18,
   "metadata": {},
   "outputs": [
    {
     "name": "stdout",
     "output_type": "stream",
     "text": [
      "CPU times: user 4min 10s, sys: 2.51 s, total: 4min 13s\n",
      "Wall time: 4min 7s\n"
     ]
    }
   ],
   "source": [
    "%%time\n",
    "#cell exec time ~ 4mins 7s\n",
    "\n",
    "#data preparation for vertices, edges, cost matrix, same nodes & neighboring nodes\n",
    "\n",
    "dfV = get_vertexDF(filename)\n",
    "dfE = get_edgeDF(filename)\n",
    "l = get_totalNodes(dfV)\n",
    "dist_mat = get_costMatrix(dfV, dfE)\n",
    "same_list = get_sameNodes(dfV)\n",
    "neighbor_list = get_neighbors(dfE,l)"
   ]
  },
  {
   "cell_type": "markdown",
   "metadata": {},
   "source": [
    "## Run the algorithms"
   ]
  },
  {
   "cell_type": "markdown",
   "metadata": {},
   "source": [
    "#### Ant Explorer"
   ]
  },
  {
   "cell_type": "code",
   "execution_count": 33,
   "metadata": {},
   "outputs": [
    {
     "name": "stdout",
     "output_type": "stream",
     "text": [
      "Best Starting station 149\n",
      "Total Time in seconds: 30054.0\n",
      "Total Time in hrs: 8.34833333333\n",
      "Un-visited Set set()\n",
      "Tour length(# of stations) 605\n",
      "# of unique stations 370\n",
      "CPU times: user 26min 48s, sys: 2.95 s, total: 26min 51s\n",
      "Wall time: 26min 47s\n"
     ]
    }
   ],
   "source": [
    "%%time\n",
    "#10000 iterations:  cell exec time ~ 9mins 5s       Best tour in hrs: 8.40611111111\n",
    "#30000 iterations:  cell exec time ~ 26mins 47s     Best tour in hrs: 8.34833333333\n",
    "\n",
    "#[ant_explorer]\n",
    "\n",
    "\n",
    "#evaporation rate\n",
    "rho = 0.5\n",
    "#pheromone influence\n",
    "alpha = 0.5\n",
    "#edge quality influence\n",
    "beta = 1.5\n",
    "#constant Q\n",
    "Q = 2500\n",
    "\n",
    "#run the algorithm\n",
    "iterations = 30000\n",
    "time_budget = 72000\n",
    "cost_list, history_list, unvisited_list = ant_explorer(time_budget,iterations,dist_mat,same_list,neighbor_list,dfV,'w', alpha, beta, Q, rho)\n",
    "\n",
    "#output the results\n",
    "ae_start, ae_length, ae_stations, ae_cost_hrs = solver_results(cost_list, history_list, unvisited_list)"
   ]
  },
  {
   "cell_type": "markdown",
   "metadata": {},
   "source": [
    "#### Smart Explorer"
   ]
  },
  {
   "cell_type": "code",
   "execution_count": 32,
   "metadata": {},
   "outputs": [
    {
     "name": "stdout",
     "output_type": "stream",
     "text": [
      "Best Starting station 167\n",
      "Total Time in seconds: 27455.0\n",
      "Total Time in hrs: 7.62638888889\n",
      "Un-visited Set set()\n",
      "Tour length(# of stations) 533\n",
      "# of unique stations 363\n",
      "CPU times: user 29min 17s, sys: 3.09 s, total: 29min 20s\n",
      "Wall time: 29min 16s\n"
     ]
    }
   ],
   "source": [
    "%%time\n",
    "#25 iterations:  cell exec time ~  7mins 25s      Best tour in hrs: 7.92777777778 \n",
    "#50 iterations:  cell exec time ~  14mins 48s     Best tour in hrs: 7.8575\n",
    "#100 iterations:  cell exec time ~ 29mins 16s     Best tour in hrs: 7.62638888889\n",
    "\n",
    "#[smart_explorer]\n",
    "\n",
    "#run the [smart_explorer] algorithm\n",
    "iterations = 100\n",
    "time_budget = 72000\n",
    "cost_list, history_list, unvisited_list = smart_explorer(time_budget,iterations,dist_mat,same_list,neighbor_list,dfV,'w')\n",
    "\n",
    "#output the results\n",
    "se_start, se_length, se_stations, se_cost_hrs = solver_results(cost_list, history_list, unvisited_list)"
   ]
  },
  {
   "cell_type": "markdown",
   "metadata": {},
   "source": [
    "## Conclusion\n",
    "#### Table of comparison\n",
    "\n",
    "The selection strategies of these two algorithms only differ when all neigboring edges of a node have already been visited.\n",
    "\n",
    "In the case of the smart_explorer, an element of randomness is only introduced when encountering visited nodes that have been previously visited the same number of times.\n",
    "\n",
    "The ant_explorer, just as with smart_explorer, first exhausts all edges connected to unvisited nodes, and then applies the ACO inspired selection strategy but to the set of *all* visited nodes.\n",
    "\n",
    "Since both algorithms are highly influenced by the number of previous node visits of current tour *in progress* and given the fact that the smart_explorer allows some flexibility facilitated by random selection over a much smaller search space as compared to that of a TSP problem, for which a solution could be brute forced in polynomial time, one could perhaps conclude that the smart_explorer will outperform the ant_explorer every single time (ie given enough iterations)."
   ]
  },
  {
   "cell_type": "code",
   "execution_count": 34,
   "metadata": {},
   "outputs": [
    {
     "data": {
      "text/html": [
       "<div>\n",
       "<style>\n",
       "    .dataframe thead tr:only-child th {\n",
       "        text-align: right;\n",
       "    }\n",
       "\n",
       "    .dataframe thead th {\n",
       "        text-align: left;\n",
       "    }\n",
       "\n",
       "    .dataframe tbody tr th {\n",
       "        vertical-align: top;\n",
       "    }\n",
       "</style>\n",
       "<table border=\"1\" class=\"dataframe\">\n",
       "  <thead>\n",
       "    <tr style=\"text-align: right;\">\n",
       "      <th></th>\n",
       "      <th>Algorithm</th>\n",
       "      <th>Starting Station</th>\n",
       "      <th># of stations</th>\n",
       "      <th>#of unique stops</th>\n",
       "      <th>Total Time</th>\n",
       "    </tr>\n",
       "  </thead>\n",
       "  <tbody>\n",
       "    <tr>\n",
       "      <th>0</th>\n",
       "      <td>Ant Explorer</td>\n",
       "      <td>149</td>\n",
       "      <td>605</td>\n",
       "      <td>370</td>\n",
       "      <td>8.348333</td>\n",
       "    </tr>\n",
       "    <tr>\n",
       "      <th>1</th>\n",
       "      <td>Smart Explorer</td>\n",
       "      <td>167</td>\n",
       "      <td>533</td>\n",
       "      <td>363</td>\n",
       "      <td>7.626389</td>\n",
       "    </tr>\n",
       "  </tbody>\n",
       "</table>\n",
       "</div>"
      ],
      "text/plain": [
       "        Algorithm  Starting Station  # of stations  #of unique stops  \\\n",
       "0    Ant Explorer               149            605               370   \n",
       "1  Smart Explorer               167            533               363   \n",
       "\n",
       "   Total Time  \n",
       "0    8.348333  \n",
       "1    7.626389  "
      ]
     },
     "execution_count": 34,
     "metadata": {},
     "output_type": "execute_result"
    }
   ],
   "source": [
    "d = {'Algorithm': ['Ant Explorer', 'Smart Explorer'], 'Starting Station': [ae_start, se_start], \n",
    "     '# of stations':[ae_length, se_length], '#of unique stops':[ae_stations, se_stations],\n",
    "     'Total Time':[ae_cost_hrs,se_cost_hrs]}\n",
    "df = pd.DataFrame(data=d)\n",
    "\n",
    "df[['Algorithm','Starting Station','# of stations','#of unique stops','Total Time']]"
   ]
  },
  {
   "cell_type": "markdown",
   "metadata": {},
   "source": [
    "## Possible Improvements\n",
    "\n",
    "* Ant Explorer: for each randomly selected starting node a grid search over a range pertaining to each of the hyperparameters Q, rho, alpha and beta, might yield significantly better results (essentially hyperparameter tuning for meta-heuristic algorithms). I implemented the grid search but decided against using it since it is too computationally expensive.\n",
    "\n",
    "* Smart Explorer: it might be worth experimenting with randomness in selection strategy over the entire set of already visited neigboring edges post exhaustion of the unvisited set of edges."
   ]
  }
 ],
 "metadata": {
  "kernelspec": {
   "display_name": "Python 3",
   "language": "python",
   "name": "python3"
  },
  "language_info": {
   "codemirror_mode": {
    "name": "ipython",
    "version": 3
   },
   "file_extension": ".py",
   "mimetype": "text/x-python",
   "name": "python",
   "nbconvert_exporter": "python",
   "pygments_lexer": "ipython3",
   "version": "3.6.5"
  }
 },
 "nbformat": 4,
 "nbformat_minor": 2
}
